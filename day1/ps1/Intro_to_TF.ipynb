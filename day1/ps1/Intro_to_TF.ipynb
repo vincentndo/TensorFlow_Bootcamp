{
 "cells": [
  {
   "cell_type": "markdown",
   "metadata": {},
   "source": [
    "# Introduction to Tensorflow "
   ]
  },
  {
   "cell_type": "markdown",
   "metadata": {},
   "source": [
    "Here's a quick notebook to get you started with the basics of Tensorflow to go through as needed! "
   ]
  },
  {
   "cell_type": "code",
   "execution_count": 1,
   "metadata": {},
   "outputs": [],
   "source": [
    "from __future__ import print_function\n",
    "import tensorflow as tf\n",
    "import numpy as np\n",
    "import matplotlib.pyplot as plt"
   ]
  },
  {
   "cell_type": "code",
   "execution_count": 2,
   "metadata": {},
   "outputs": [
    {
     "name": "stdout",
     "output_type": "stream",
     "text": [
      "b'Hello World!'\n"
     ]
    }
   ],
   "source": [
    "# Create TensorFlow object called tensor\n",
    "hello_constant = tf.constant('Hello World!')\n",
    "\n",
    "with tf.Session() as sess:\n",
    "    # Run the tf.constant operatin in the session\n",
    "    output = sess.run(hello_constant)\n",
    "    print(output)"
   ]
  },
  {
   "cell_type": "markdown",
   "metadata": {},
   "source": [
    "## What is a Tensor? \n",
    "In TensorFlow, data isn’t stored as integers, floats, or strings. These values are encapsulated in an object called a tensor. In the case of hello_constant = tf.constant('Hello World!'), hello_constant is a 0-dimensional string tensor, but tensors come in a variety of sizes as shown below:"
   ]
  },
  {
   "cell_type": "code",
   "execution_count": 3,
   "metadata": {},
   "outputs": [
    {
     "name": "stdout",
     "output_type": "stream",
     "text": [
      "Tensor(\"Const_1:0\", shape=(), dtype=int32) Tensor(\"Const_2:0\", shape=(3,), dtype=int32) Tensor(\"Const_3:0\", shape=(2, 3), dtype=int32)\n",
      "1234 [123 456 789] [[1 2 3]\n",
      " [4 5 6]]\n"
     ]
    }
   ],
   "source": [
    "# A is a 0-dimensional int32 tensor\n",
    "A = tf.constant(1234)\n",
    "\n",
    "# B is a 1-dimensional int32 tensor\n",
    "B = tf.constant([123,456,789])\n",
    "\n",
    "# Create C a 2-dimensional int32 tensor \n",
    "# ___ YOUR CODE HERE ____\n",
    "C = tf.constant([[1, 2, 3],\n",
    "                 [4, 5, 6]])\n",
    "\n",
    "print(A, B, C)\n",
    "\n",
    "with tf.Session() as sess:\n",
    "    AA, BB, CC = sess.run([A, B, C])\n",
    "    \n",
    "print(AA, BB, CC)"
   ]
  },
  {
   "cell_type": "markdown",
   "metadata": {},
   "source": [
    "The tensor returned by tf.constant() is called a constant tensor, because the value of the tensor never changes."
   ]
  },
  {
   "cell_type": "markdown",
   "metadata": {},
   "source": [
    "\n",
    "## Session\n",
    "TensorFlow’s api is built around the idea of a computational graph, a way of visualizing a mathematical process. \n",
    "A \"TensorFlow Session\" is an environment for running a graph. The session is in charge of allocating the operations to GPU(s) and/or CPU(s), including remote machines. Let’s see how you use it:"
   ]
  },
  {
   "cell_type": "code",
   "execution_count": 3,
   "metadata": {},
   "outputs": [],
   "source": [
    "with tf.Session() as sess:\n",
    "    output = sess.run(hello_constant)"
   ]
  },
  {
   "cell_type": "markdown",
   "metadata": {},
   "source": [
    "The code has already created the tensor, hello_constant, from the previous lines. The next step is to evaluate the tensor in a session.\n",
    "The code creates a session instance, sess, using tf.Session. The sess.run() function then evaluates the tensor and returns the results."
   ]
  },
  {
   "cell_type": "markdown",
   "metadata": {},
   "source": [
    "\n",
    "## TensorFlow Input\n",
    "In the last section, a tensor was passed into a session and it returned the result. What if we want to use a non-constant? This is where tf.placeholder() and feed_dict come into place. In this section, we'll go over the basics of feeding data into TensorFlow."
   ]
  },
  {
   "cell_type": "markdown",
   "metadata": {},
   "source": [
    "## tf.placeholder()\n",
    "\n",
    "Sadly you can’t just set x to your dataset and put it in TensorFlow, because over time you'll want your TensorFlow model to take in different datasets with different parameters. You need tf.placeholder()!\n",
    "tf.placeholder() returns a tensor that gets its value from data passed to the tf.session.run() function, allowing you to set the input right before the session runs."
   ]
  },
  {
   "cell_type": "markdown",
   "metadata": {},
   "source": [
    "## Session's feed_dict"
   ]
  },
  {
   "cell_type": "code",
   "execution_count": 4,
   "metadata": {},
   "outputs": [
    {
     "name": "stdout",
     "output_type": "stream",
     "text": [
      "Hello World\n"
     ]
    }
   ],
   "source": [
    "x = tf.placeholder(tf.string)\n",
    "\n",
    "with tf.Session() as sess:\n",
    "    output = sess.run(x, feed_dict={x: 'Hello World'})\n",
    "    print(output)"
   ]
  },
  {
   "cell_type": "markdown",
   "metadata": {},
   "source": [
    "Use the feed_dict parameter in tf.session.run() to set the placeholder tensor. The above example shows the tensor x being set to the string \"Hello, world\". It's also possible to set more than one tensor using feed_dict as shown below:"
   ]
  },
  {
   "cell_type": "code",
   "execution_count": 5,
   "metadata": {},
   "outputs": [
    {
     "name": "stdout",
     "output_type": "stream",
     "text": [
      "Hello Vincent\n",
      "69\n",
      "3.14\n"
     ]
    }
   ],
   "source": [
    "x = tf.placeholder(tf.string)\n",
    "y = tf.placeholder(tf.int32)\n",
    "z = tf.placeholder(tf.float32)\n",
    "\n",
    "with tf.Session() as sess:\n",
    "    #Fix feed dict so that output_x and output_y work.\n",
    "    output_x = sess.run(x, feed_dict={x: \"Hello Vincent\"})\n",
    "    output_y = sess.run(y, feed_dict={y: 69})\n",
    "    output_z = sess.run(z, feed_dict={z: 3.14})\n",
    "    print(output_x)\n",
    "    print(output_y)\n",
    "    print(output_z)"
   ]
  },
  {
   "cell_type": "markdown",
   "metadata": {},
   "source": [
    "Note: If the data passed to the feed_dict doesn’t match the tensor type and can’t be cast into the tensor type, you’ll get the error “ValueError: invalid literal for...”."
   ]
  },
  {
   "cell_type": "markdown",
   "metadata": {},
   "source": [
    "### Excercise"
   ]
  },
  {
   "cell_type": "code",
   "execution_count": 6,
   "metadata": {},
   "outputs": [
    {
     "data": {
      "text/plain": [
       "array(123, dtype=int32)"
      ]
     },
     "execution_count": 6,
     "metadata": {},
     "output_type": "execute_result"
    }
   ],
   "source": [
    "import tensorflow as tf\n",
    "\n",
    "\n",
    "def run():\n",
    "    output = None\n",
    "    x = tf.placeholder(tf.int32)\n",
    "\n",
    "    with tf.Session() as sess:\n",
    "        # TODO: Feed the x tensor 123 and set the variable output\n",
    "        # ___ YOUR CODE HERE ____\n",
    "        output = sess.run(x, feed_dict={x: 123})       \n",
    "       \n",
    "    return output\n",
    "\n",
    "run()"
   ]
  },
  {
   "cell_type": "markdown",
   "metadata": {},
   "source": [
    "## TensorFlow Math\n",
    "Getting the input is great, but now you need to use it. We're going to use basic math functions to get started that everyone knows and loves - add, subtract, multiply, and divide - with tensors. "
   ]
  },
  {
   "cell_type": "markdown",
   "metadata": {},
   "source": [
    "### Addition, Subraction and Multiplication"
   ]
  },
  {
   "cell_type": "code",
   "execution_count": 8,
   "metadata": {},
   "outputs": [
    {
     "name": "stdout",
     "output_type": "stream",
     "text": [
      "Tensor(\"Sub_3:0\", shape=(), dtype=int32) Tensor(\"Mul_3:0\", shape=(), dtype=int32)\n",
      "6 10\n"
     ]
    }
   ],
   "source": [
    "x = tf.add(5, 2)  # 7\n",
    "x = tf.subtract(10, 4) # 6\n",
    "y = tf.multiply(2, 5)  # 10\n",
    "print(x, y)\n",
    "\n",
    "with tf.Session() as sess:\n",
    "    xx, yy = sess.run([x, y])\n",
    "    \n",
    "print(xx, yy)"
   ]
  },
  {
   "cell_type": "markdown",
   "metadata": {},
   "source": [
    "## tf.truncated_normal()"
   ]
  },
  {
   "cell_type": "markdown",
   "metadata": {},
   "source": [
    "The tf.truncated_normal() function returns a tensor with random values from a normal distribution whose magnitude is no more than 2 standard deviations from the mean.\n",
    "Since the weights are already helping prevent the model from getting stuck, you don't need to randomize the bias. Let's use the simplest solution, setting the bias to 0."
   ]
  },
  {
   "cell_type": "code",
   "execution_count": 11,
   "metadata": {},
   "outputs": [
    {
     "name": "stdout",
     "output_type": "stream",
     "text": [
      "[[-6.97795928e-01  1.49494934e+00  7.57278919e-01 -1.35786104e+00\n",
      "   1.01364565e+00]\n",
      " [-1.42913067e+00 -1.12742305e+00 -9.98090327e-01  2.39314243e-01\n",
      "  -8.44541907e-01]\n",
      " [ 1.37013948e+00  3.21759343e-01  1.63524970e-01  4.31561202e-01\n",
      "  -9.72135663e-01]\n",
      " [ 3.56655300e-01 -2.47162849e-01  2.70779461e-01  8.95297050e-01\n",
      "   5.95616460e-01]\n",
      " [ 4.89155471e-01 -2.48888582e-01 -5.59810221e-01  2.82246441e-01\n",
      "   9.28711116e-01]\n",
      " [ 8.09489906e-01 -9.27406847e-01 -3.06017976e-02 -7.26827443e-01\n",
      "  -5.11046290e-01]\n",
      " [-4.65734839e-01 -1.79206431e+00 -2.12256044e-01  1.25352466e+00\n",
      "  -1.21188235e+00]\n",
      " [-4.67740268e-01  3.92390415e-02  2.75325984e-01  1.19464362e+00\n",
      "  -1.83602244e-01]\n",
      " [ 4.05887008e-01 -1.27227560e-01 -1.25506532e+00 -2.94889331e-01\n",
      "  -1.43141568e+00]\n",
      " [-8.83556232e-02 -3.95080447e-01 -8.22356045e-01 -3.18281651e-01\n",
      "   8.89461875e-01]\n",
      " [ 3.92579257e-01 -5.16729534e-01 -9.44831431e-01 -1.58487573e-01\n",
      "   1.55039775e+00]\n",
      " [-5.59751749e-01  9.51619968e-02  3.62099200e-01  1.49651539e+00\n",
      "   4.44330901e-01]\n",
      " [-4.55612212e-01 -2.53104925e-01 -2.68310636e-01 -8.46222222e-01\n",
      "   3.74582499e-01]\n",
      " [ 1.25568080e+00 -4.57048118e-01 -1.11029291e+00  1.93968922e-01\n",
      "   3.38208914e-01]\n",
      " [-2.57946104e-01  9.95476451e-03 -1.11689007e+00 -4.13895786e-01\n",
      "   8.48272026e-01]\n",
      " [ 2.80486315e-01 -5.13564646e-01 -8.58165383e-01 -1.02378249e+00\n",
      "   1.48646069e+00]\n",
      " [ 5.10151386e-01  1.24322414e+00 -6.21748149e-01  1.37222600e+00\n",
      "  -7.76038468e-01]\n",
      " [-1.41161251e+00 -6.85674548e-01  1.13684690e+00  1.61611962e+00\n",
      "   3.51630896e-01]\n",
      " [ 1.44455850e+00 -1.94635677e+00  2.40800515e-01 -9.64310348e-01\n",
      "  -1.92775702e+00]\n",
      " [ 1.49587476e+00 -1.36949122e+00 -3.88650179e-01 -7.49837458e-01\n",
      "  -6.40748620e-01]\n",
      " [ 1.65726209e+00 -5.79723120e-01  1.20718026e+00  1.11916816e+00\n",
      "   6.18665814e-01]\n",
      " [-9.15412426e-01 -3.09048355e-01  4.89289969e-01  1.91768333e-01\n",
      "   9.99096453e-01]\n",
      " [ 5.07178366e-01 -2.85338670e-01  7.73675442e-01  1.03089464e+00\n",
      "   5.09603545e-02]\n",
      " [ 8.34065020e-01  6.67049646e-01  1.20762455e+00 -1.67457387e-01\n",
      "  -4.27679926e-01]\n",
      " [-4.06930715e-01  1.45587742e+00 -1.96830571e-01 -8.42872143e-01\n",
      "  -5.18401563e-01]\n",
      " [-1.75092733e+00 -3.42673630e-01  1.52425796e-01 -9.80288148e-01\n",
      "   6.72398925e-01]\n",
      " [ 2.53604259e-02 -8.51898551e-01 -3.54940534e-01  3.16473424e-01\n",
      "  -1.43772733e+00]\n",
      " [ 3.76692861e-02 -2.61170030e-01  2.29676291e-02 -9.86646593e-01\n",
      "  -3.93669903e-01]\n",
      " [ 1.22864224e-01 -4.37308967e-01  1.50588202e+00  7.21009314e-01\n",
      "   7.34355927e-01]\n",
      " [-5.43216407e-01  1.50033522e+00 -1.99554056e-01 -2.77504593e-01\n",
      "  -2.86211669e-01]\n",
      " [ 4.63316590e-01 -7.21950531e-01 -4.77879286e-01 -8.71976465e-02\n",
      "  -1.81997791e-01]\n",
      " [ 4.46787417e-01 -3.13104540e-01  1.13688266e+00  1.16680431e+00\n",
      "   1.36544061e+00]\n",
      " [ 1.13915610e+00 -9.90933299e-01  3.38627487e-01 -5.12330115e-01\n",
      "  -3.92540157e-01]\n",
      " [ 2.43313402e-01 -6.82014823e-01 -1.73904136e-01  1.67332840e+00\n",
      "  -1.03607881e+00]\n",
      " [ 1.37331411e-01  8.49135593e-03 -1.36549759e+00 -5.27224600e-01\n",
      "   1.15149729e-01]\n",
      " [-7.88616300e-01 -9.15896416e-01  7.64927089e-01  7.27446854e-01\n",
      "  -4.34204489e-01]\n",
      " [ 7.55253136e-01 -1.05690587e+00 -1.12396026e+00  2.99168944e-01\n",
      "   1.37105298e+00]\n",
      " [ 1.67796528e+00  3.98228705e-01  1.28280175e+00  2.48881400e-01\n",
      "  -1.61724687e-01]\n",
      " [-9.12413955e-01  2.26602420e-01  6.15305081e-02 -5.36423385e-01\n",
      "   4.54701245e-01]\n",
      " [ 5.47294080e-01 -1.57502338e-01 -6.21648133e-01 -8.62312376e-01\n",
      "   1.13108027e+00]\n",
      " [ 1.71324372e+00  9.99050736e-01  5.34091175e-01 -8.31071854e-01\n",
      "  -6.32732153e-01]\n",
      " [ 6.68584347e-01  2.06099078e-01 -1.81406820e+00  8.03888738e-02\n",
      "  -1.66539538e+00]\n",
      " [ 9.44620430e-01  1.60679519e-01  4.86698031e-01  8.75165090e-02\n",
      "   1.08466291e+00]\n",
      " [ 4.15201634e-01  9.39052343e-01 -4.92679626e-02 -8.75049114e-01\n",
      "  -4.53292072e-01]\n",
      " [-5.20501614e-01 -1.18121095e-01  1.34500551e+00  1.10706675e+00\n",
      "  -8.66349816e-01]\n",
      " [ 2.30242070e-02  3.45186234e-01 -5.09156644e-01 -1.23064017e+00\n",
      "   3.90339553e-01]\n",
      " [-1.15422285e+00  4.04123008e-01  8.07408810e-01  8.03930521e-01\n",
      "   2.54225969e-01]\n",
      " [-1.03493325e-01  5.62684596e-01 -1.10046096e-01  5.43951929e-01\n",
      "  -9.82116580e-01]\n",
      " [-1.94862998e+00  1.27418280e+00 -7.54406080e-02  4.55574356e-02\n",
      "  -8.21228802e-01]\n",
      " [-9.41906691e-01 -5.67973740e-02 -1.38954961e+00 -9.95014191e-01\n",
      "  -3.95073086e-01]\n",
      " [ 1.06121445e+00  3.79061431e-01  1.12316799e+00  1.47402287e+00\n",
      "   5.93015075e-01]\n",
      " [-1.02121043e+00 -3.63907516e-01  1.73865557e-01 -6.87972069e-01\n",
      "   9.77111220e-01]\n",
      " [-1.71657586e+00  1.03628790e+00  1.53621778e-01 -3.40379417e-01\n",
      "   6.04872286e-01]\n",
      " [ 9.39695895e-01  1.05959690e+00  3.40609439e-02  7.22707927e-01\n",
      "   6.90700233e-01]\n",
      " [-1.11917067e+00  4.98432070e-01 -5.23730278e-01  3.38124074e-02\n",
      "   8.95621836e-01]\n",
      " [-4.27795887e-01 -3.72821569e-01  1.67213273e+00 -1.09151058e-01\n",
      "  -3.01102579e-01]\n",
      " [ 1.02879381e+00  3.61560524e-01  1.00931533e-01 -7.22663581e-01\n",
      "  -1.32348374e-01]\n",
      " [-2.66272724e-01 -3.81095409e-01  9.60760593e-01 -1.99800849e-01\n",
      "   9.13889229e-01]\n",
      " [ 1.19069017e-01 -3.55405241e-01  5.61648965e-01 -3.55564892e-01\n",
      "   1.07306373e+00]\n",
      " [ 2.40271509e-01  1.00569880e+00  4.82613266e-01 -1.00912285e+00\n",
      "   5.71457028e-01]\n",
      " [-1.30850351e+00  7.40713418e-01  4.06995922e-01  1.32904975e-02\n",
      "   2.25943595e-01]\n",
      " [-1.73364651e+00 -6.09481990e-01 -8.61938834e-01  6.90068305e-01\n",
      "  -1.43040335e+00]\n",
      " [ 3.51137668e-01 -6.14793420e-01  1.26279151e+00  3.89206707e-02\n",
      "   9.55641150e-01]\n",
      " [-1.01082182e+00 -7.92527556e-01  1.13305426e+00  2.66449451e-01\n",
      "   5.70976377e-01]\n",
      " [ 5.67351401e-01 -1.71877098e+00 -1.12602270e+00 -1.19563472e+00\n",
      "   1.90662396e+00]\n",
      " [-1.60126582e-01 -1.26227093e+00  1.11300266e+00 -5.68487287e-01\n",
      "   6.39474951e-04]\n",
      " [-9.75492179e-01  7.70957470e-01  1.52925611e+00 -1.33450389e-01\n",
      "   5.77802062e-01]\n",
      " [ 9.02161419e-01  1.91326439e-01  5.46420753e-01  3.98485452e-01\n",
      "   1.51360857e+00]\n",
      " [-6.65628314e-01 -3.06285352e-01  1.61551571e+00  1.64152086e-01\n",
      "   8.62585187e-01]\n",
      " [-9.00040329e-01 -1.66728759e+00 -6.97452545e-01  3.20897460e-01\n",
      "   2.99315125e-01]\n",
      " [-8.70930374e-01 -7.29113042e-01  5.17711103e-01 -1.63489902e+00\n",
      "  -1.96066868e+00]\n",
      " [ 5.69799483e-01 -1.20681965e+00 -4.98290271e-01  1.23546410e+00\n",
      "  -9.96327400e-01]\n",
      " [-2.49421954e-01 -8.66397977e-01 -2.36189783e-01 -2.52248973e-01\n",
      "   3.28062236e-01]\n",
      " [-1.65172383e-01  2.14361012e-01  3.35568428e-01 -7.87493214e-02\n",
      "  -2.07244068e-01]\n",
      " [ 8.89578700e-01 -6.73984408e-01  3.32076609e-01  1.25136626e+00\n",
      "  -4.13364656e-02]\n",
      " [ 4.51307148e-02  2.26533353e-01 -5.70065320e-01  4.12346125e-01\n",
      "   1.89599812e+00]\n",
      " [ 9.46505889e-02 -9.05511320e-01 -2.72721171e-01 -1.13150619e-01\n",
      "  -1.80607414e+00]\n",
      " [ 1.52125227e+00 -5.67994475e-01 -8.21411908e-01  2.66193062e-01\n",
      "   7.37742364e-01]\n",
      " [ 4.13889438e-01 -5.18096685e-01 -2.91649699e-01  7.44298041e-01\n",
      "   1.07265422e-02]\n",
      " [ 6.60407782e-01  1.10125864e+00 -9.00020242e-01 -1.02554846e+00\n",
      "   3.52718890e-01]\n",
      " [-3.06873769e-01 -7.12605476e-01  7.87681043e-01  6.20726459e-02\n",
      "  -6.89258337e-01]\n",
      " [ 1.94174147e+00 -1.72298837e+00 -8.27873290e-01  7.88030565e-01\n",
      "  -5.04703224e-01]\n",
      " [ 6.60181046e-01  1.77322352e+00 -3.36206593e-02  7.29243040e-01\n",
      "  -2.35450834e-01]\n",
      " [ 1.79207027e-01  3.85207504e-01 -4.54081625e-01  1.83672644e-02\n",
      "   1.44389522e+00]\n",
      " [ 1.33866906e-01 -1.04127681e+00  1.64550439e-01 -6.35296524e-01\n",
      "  -1.32390368e+00]\n",
      " [ 1.74623713e-01 -1.33879602e+00 -8.53431523e-01 -1.28288686e+00\n",
      "   1.69946563e+00]\n",
      " [-7.04530001e-01 -5.30137241e-01  8.49876821e-01  1.02654612e+00\n",
      "   9.66342017e-02]\n",
      " [ 3.50327015e-01 -1.25773633e+00  3.91214877e-01  1.36988199e+00\n",
      "  -1.16606951e+00]\n",
      " [-1.59378791e+00 -1.49929452e+00  2.33320385e-01  3.82707983e-01\n",
      "   3.95672560e-01]\n",
      " [-1.31481946e+00  2.89857715e-01  3.28753650e-01 -1.38202178e+00\n",
      "   9.73825276e-01]\n",
      " [ 3.79394203e-01 -1.12799954e+00 -4.60383087e-01  1.13200116e+00\n",
      "   3.03454578e-01]\n",
      " [ 1.50488126e+00 -2.86852628e-01  1.28603303e+00  1.63252163e+00\n",
      "   5.85653007e-01]\n",
      " [ 9.94376063e-01  1.03481553e-01 -1.08894193e+00 -4.94838446e-01\n",
      "  -1.72826827e-01]\n",
      " [-4.56594825e-01 -1.13654053e+00  1.56739056e+00  8.49313855e-01\n",
      "   1.46686447e+00]\n",
      " [-5.35629034e-01  3.82013351e-01 -1.17826200e+00  9.80293572e-01\n",
      "  -4.02121134e-02]\n",
      " [-1.48409617e+00 -1.90620077e+00  4.29812193e-01 -1.83452204e-01\n",
      "  -1.16945410e+00]\n",
      " [-3.94758612e-01  4.14491355e-01  9.93177235e-01 -1.19269013e+00\n",
      "   6.02224052e-01]\n",
      " [-1.10239339e+00  1.10023640e-01  1.46018493e+00 -6.30116343e-01\n",
      "  -1.78931534e+00]\n",
      " [-1.69617891e+00 -3.46498817e-01  8.36663693e-02  1.40956247e+00\n",
      "   3.05776626e-01]\n",
      " [-3.88712704e-01 -1.64641666e+00 -1.09684952e-01  7.69419074e-01\n",
      "   8.27442110e-01]\n",
      " [-9.66782808e-01 -9.17961001e-01 -2.76079714e-01  5.13540745e-01\n",
      "   8.87441993e-01]\n",
      " [ 9.60084498e-01  9.67970610e-01 -3.07605296e-01  7.25703180e-01\n",
      "   4.49064761e-01]\n",
      " [ 1.52341947e-01  1.41543794e+00 -6.90213501e-01  2.00756952e-01\n",
      "   6.38950527e-01]\n",
      " [-1.03802450e-01  7.42123127e-01  8.86329412e-02 -1.15644836e+00\n",
      "   1.81179261e+00]\n",
      " [-1.07504308e+00 -9.09880042e-01 -1.22158200e-01 -1.13647628e+00\n",
      "  -6.07170880e-01]\n",
      " [ 4.95845020e-01 -2.06151128e-01  8.72615397e-01  8.75826955e-01\n",
      "   1.11398077e+00]\n",
      " [ 1.29864231e-01 -1.50636041e+00 -1.55886292e-01 -2.27627456e-01\n",
      "  -2.36751869e-01]\n",
      " [ 1.44491613e-01  9.82617795e-01  1.86419439e+00 -1.04363894e+00\n",
      "  -7.51748681e-01]\n",
      " [-1.74158251e+00 -6.98850453e-02  8.14764023e-01 -3.94007444e-01\n",
      "   2.16353372e-01]\n",
      " [-1.43130183e-01  1.54508913e+00 -2.76457697e-01 -6.86976546e-03\n",
      "  -1.37277341e+00]\n",
      " [ 4.43808407e-01 -1.85951912e+00 -2.75713325e-01  1.58906662e+00\n",
      "   5.69959939e-01]\n",
      " [-7.84440219e-01 -1.33635595e-01 -9.99046117e-02 -1.35679555e+00\n",
      "  -1.19390041e-01]\n",
      " [ 9.21010733e-01 -1.61666602e-01  1.09311807e+00  2.71260321e-01\n",
      "  -2.75325865e-01]\n",
      " [-1.38695300e+00  6.47319078e-01  2.70161331e-01  1.20574033e+00\n",
      "  -9.39095318e-01]\n",
      " [-5.99570036e-01 -3.84708405e-01  5.10082960e-01  8.01449716e-01\n",
      "   3.40501189e-01]\n",
      " [ 7.06296384e-01  4.13565725e-01 -4.83802229e-01  1.91382658e+00\n",
      "  -1.14215994e+00]\n",
      " [-3.46444786e-01  1.28370628e-01 -9.03801203e-01 -8.97571683e-01\n",
      "   2.60107577e-01]\n",
      " [-6.20661974e-01  5.75691223e-01  9.56245005e-01  1.14159501e+00\n",
      "   2.35575914e-01]\n",
      " [-1.88131392e-01  1.46282807e-01 -4.76067275e-01  1.28742337e-01\n",
      "   1.60672331e+00]\n",
      " [-1.18849266e+00  4.35407400e-01 -1.54000330e+00  7.66894758e-01\n",
      "  -1.03492033e+00]]\n"
     ]
    }
   ],
   "source": [
    "n_features = 120\n",
    "n_labels = 5\n",
    "weights = tf.Variable(tf.truncated_normal((n_features, n_labels)))\n",
    "\n",
    "init = tf.global_variables_initializer()\n",
    "with tf.Session() as sess:\n",
    "    sess.run(init)\n",
    "    output_weights = sess.run(weights)\n",
    "    \n",
    "print(output_weights)"
   ]
  },
  {
   "cell_type": "markdown",
   "metadata": {},
   "source": [
    "### Converting Types\n",
    "It may be necessary to convert between types to make certain operators work together. For example, if you tried the following, it would fail with an exception:"
   ]
  },
  {
   "cell_type": "code",
   "execution_count": 18,
   "metadata": {},
   "outputs": [],
   "source": [
    "tf.subtract(tf.constant(2.0),tf.constant(1))  \n",
    "# Fails with ValueError: Tensor conversion requested dtype float32 for Tensor with dtype int32:"
   ]
  },
  {
   "cell_type": "markdown",
   "metadata": {},
   "source": [
    "The tf.Variable class creates a tensor with an initial value that can be modified, much like a normal Python variable. This tensor stores its state in the session, so you must initialize the state of the tensor manually. You'll use the tf.global_variables_initializer() function to initialize the state of all the Variable tensors:"
   ]
  },
  {
   "cell_type": "code",
   "execution_count": null,
   "metadata": {
    "collapsed": true
   },
   "outputs": [],
   "source": [
    "init = tf.global_variables_initializer()\n",
    "with tf.Session() as sess:\n",
    "    sess.run(init)"
   ]
  },
  {
   "cell_type": "markdown",
   "metadata": {},
   "source": [
    "The tf.global_variables_initializer() call returns an operation that will initialize all TensorFlow variables from the graph. You call the operation using a session to initialize all the variables as shown above. \n",
    "\n",
    "Using the tf.Variable class allows us to change the weights and bias, but an initial value needs to be chosen.\n",
    "Initializing the weights with random numbers from a normal distribution is good practice. Randomizing the weights helps the model from becoming stuck in the same place every time you train it. \n",
    "\n",
    "Similarly, choosing weights from a normal distribution prevents any one weight from overwhelming other weights. We'll use the tf.truncated_normal() function to generate random numbers from a normal distribution."
   ]
  },
  {
   "cell_type": "markdown",
   "metadata": {
    "collapsed": true
   },
   "source": [
    "### tf.zeros()"
   ]
  },
  {
   "cell_type": "code",
   "execution_count": 14,
   "metadata": {},
   "outputs": [
    {
     "name": "stdout",
     "output_type": "stream",
     "text": [
      "[0. 0. 0. 0. 0.]\n"
     ]
    }
   ],
   "source": [
    "n_labels = 5\n",
    "bias = tf.Variable(tf.zeros(n_labels))\n",
    "\n",
    "init = tf.global_variables_initializer()\n",
    "with tf.Session() as sess:\n",
    "    sess.run(init)\n",
    "    output_bias = sess.run(bias)\n",
    "    \n",
    "print(output_bias)"
   ]
  },
  {
   "cell_type": "markdown",
   "metadata": {},
   "source": [
    "The tf.zeros() function returns a tensor with all zeros."
   ]
  },
  {
   "cell_type": "markdown",
   "metadata": {},
   "source": [
    "### tf.reduce_sum() \n",
    "`tf.reduce_sum()` takes an array of numbers and sums them together."
   ]
  },
  {
   "cell_type": "code",
   "execution_count": 16,
   "metadata": {},
   "outputs": [
    {
     "name": "stdout",
     "output_type": "stream",
     "text": [
      "Tensor(\"Sum_1:0\", shape=(), dtype=int32)\n",
      "15\n"
     ]
    }
   ],
   "source": [
    "x = tf.reduce_sum([1, 2, 3, 4, 5])  # 15\n",
    "print(x)\n",
    "\n",
    "with tf.Session() as sess:\n",
    "    xx = sess.run(x)\n",
    "    \n",
    "print(xx)"
   ]
  },
  {
   "cell_type": "markdown",
   "metadata": {},
   "source": [
    "### tf.matmul()\n",
    "Matrix multiplication is managed through this method"
   ]
  },
  {
   "cell_type": "code",
   "execution_count": 19,
   "metadata": {},
   "outputs": [
    {
     "name": "stdout",
     "output_type": "stream",
     "text": [
      "[[12.]]\n"
     ]
    }
   ],
   "source": [
    "matrix1 = tf.constant([[3., 3.]])\n",
    "matrix2 = tf.constant([[2.],[2.]])\n",
    "\n",
    "product = tf.matmul(matrix1, matrix2)\n",
    "\n",
    "with tf.Session() as sess:\n",
    "    output_product = sess.run(product)\n",
    "    \n",
    "print(output_product)"
   ]
  },
  {
   "cell_type": "markdown",
   "metadata": {},
   "source": [
    "### tf.random_normal"
   ]
  },
  {
   "cell_type": "markdown",
   "metadata": {},
   "source": [
    "Use random_normal to create random values from a normal distribution. In this example, w is a variable which is of size 784*10 with random values with standard deviation 0.01."
   ]
  },
  {
   "cell_type": "code",
   "execution_count": 21,
   "metadata": {},
   "outputs": [
    {
     "name": "stdout",
     "output_type": "stream",
     "text": [
      "<tf.Variable 'Variable_11:0' shape=(784, 10) dtype=float32_ref>\n",
      "[[-0.00349017 -0.00185917  0.00155908 ... -0.00294978  0.00047452\n",
      "   0.00479697]\n",
      " [-0.0006969  -0.01183858 -0.00250743 ...  0.0052951   0.00635086\n",
      "   0.02849324]\n",
      " [-0.00999901  0.00383926 -0.02717819 ... -0.01083131  0.00525346\n",
      "   0.01170241]\n",
      " ...\n",
      " [-0.01217247  0.00943512  0.01662249 ... -0.00774962 -0.00278588\n",
      "   0.0056094 ]\n",
      " [ 0.01280835 -0.00129587  0.01105986 ...  0.01000018 -0.01887524\n",
      "   0.00480959]\n",
      " [-0.01662512 -0.02573586 -0.01720689 ...  0.01213164  0.00871845\n",
      "  -0.00168361]]\n"
     ]
    }
   ],
   "source": [
    "w=tf.Variable(tf.random_normal([784, 10], stddev=0.01))\n",
    "print(w)\n",
    "\n",
    "init = tf.global_variables_initializer()\n",
    "with tf.Session() as sess:\n",
    "    sess.run(init)\n",
    "    ww = sess.run(w)\n",
    "    \n",
    "print(ww)"
   ]
  },
  {
   "cell_type": "markdown",
   "metadata": {},
   "source": [
    "### tf.argmax()"
   ]
  },
  {
   "cell_type": "code",
   "execution_count": 23,
   "metadata": {},
   "outputs": [
    {
     "name": "stdout",
     "output_type": "stream",
     "text": [
      "[[ 0.1  0.2  0.3]\n",
      " [20.   2.   3. ]] [2 0]\n"
     ]
    }
   ],
   "source": [
    "a=[ [0.1, 0.2,  0.3  ],\n",
    "    [20,  2,       3   ]\n",
    "  ]\n",
    "b = tf.Variable(a,name='b')\n",
    "with tf.Session() as sess:\n",
    "    sess.run(tf.global_variables_initializer())\n",
    "    bb = sess.run(b)\n",
    "    output = sess.run(tf.argmax(b,1))\n",
    "\n",
    "print(bb, output)"
   ]
  },
  {
   "cell_type": "code",
   "execution_count": null,
   "metadata": {
    "collapsed": true
   },
   "outputs": [],
   "source": [
    "Gets you the maximum value from a tensor along the specified axis."
   ]
  },
  {
   "cell_type": "markdown",
   "metadata": {},
   "source": [
    "The returned value, 'product', represents the result of the matrix\n",
    "multiplication."
   ]
  },
  {
   "cell_type": "markdown",
   "metadata": {},
   "source": [
    "# Problems"
   ]
  },
  {
   "cell_type": "markdown",
   "metadata": {},
   "source": [
    "Q0. Create a variable w with an initial value of 1.0 and name weight. Then, print out the value of w."
   ]
  },
  {
   "cell_type": "code",
   "execution_count": 24,
   "metadata": {},
   "outputs": [
    {
     "name": "stdout",
     "output_type": "stream",
     "text": [
      "1\n"
     ]
    }
   ],
   "source": [
    "# Create a tf variable w with an initial value of 1.0 and name \"weight\"\n",
    "# ___ YOUR CODE HERE ____\n",
    "w = tf.Variable(1, name=\"weight\")\n",
    "\n",
    "with tf.Session() as sess:\n",
    "    sess.run(tf.global_variables_initializer())\n",
    "    # get and print out the value of w\n",
    "    # ___ YOUR CODE HERE ____\n",
    "    ww = sess.run(w)\n",
    "    \n",
    "print(ww)"
   ]
  },
  {
   "cell_type": "markdown",
   "metadata": {},
   "source": [
    "Q1. Create a tensor with shape [2, 3] with all elements set to zero. It should pass the assertion"
   ]
  },
  {
   "cell_type": "code",
   "execution_count": 25,
   "metadata": {},
   "outputs": [
    {
     "name": "stdout",
     "output_type": "stream",
     "text": [
      "[[0. 0. 0.]\n",
      " [0. 0. 0.]]\n"
     ]
    }
   ],
   "source": [
    "with tf.Session() as sess:\n",
    "    #Change the line below \n",
    "    zeros = tf.zeros([2, 3]) # ___ YOUR CODE HERE ____\n",
    "    print(sess.run(zeros))\n",
    "    assert np.allclose(sess.run(zeros), np.zeros([2, 3]))"
   ]
  },
  {
   "cell_type": "markdown",
   "metadata": {},
   "source": [
    "Q2. Let X be a tensor of [[1,2,3], [4,5,6]]. \n",
    "Create a tensor of the same shape and dtype as X with all elements set to zero using tf.zeros_like() and converting the np array to a TF tensor using tf.convert_to_tensor"
   ]
  },
  {
   "cell_type": "code",
   "execution_count": 26,
   "metadata": {},
   "outputs": [
    {
     "name": "stdout",
     "output_type": "stream",
     "text": [
      "[[0 0 0]\n",
      " [0 0 0]]\n"
     ]
    }
   ],
   "source": [
    "with tf.Session() as sess:\n",
    "    _X = np.array([[1,2,3], [4,5,6]])\n",
    "    # Convert _X to a tf tensor\n",
    "    X = tf.constant(_X) # ___ YOUR CODE HERE ____\n",
    "    # Make a zeros matrixw with the same shape as X using TF methods \n",
    "    zeros = tf.zeros_like(X) # ___ YOUR CODE HERE ____\n",
    "    \n",
    "    print(sess.run(zeros))\n",
    "    assert np.allclose(sess.run(zeros), np.zeros_like(_X))"
   ]
  },
  {
   "cell_type": "markdown",
   "metadata": {},
   "source": [
    "Q3. Create a tensor of shape [2, 3] with all elements set to one."
   ]
  },
  {
   "cell_type": "code",
   "execution_count": 27,
   "metadata": {},
   "outputs": [
    {
     "name": "stdout",
     "output_type": "stream",
     "text": [
      "[[1. 1. 1.]\n",
      " [1. 1. 1.]]\n"
     ]
    }
   ],
   "source": [
    "with tf.Session() as sess:\n",
    "    #Fix the line below \n",
    "    #ones = ...\n",
    "    ones = tf.ones([2, 3])\n",
    "    print(sess.run(ones))\n",
    "    assert np.allclose(sess.run(ones), np.ones([2, 3]))"
   ]
  },
  {
   "cell_type": "markdown",
   "metadata": {},
   "source": [
    "Q4. Create a constant tensor of [[1, 3, 5], [4, 6, 8]], with dtype=float32"
   ]
  },
  {
   "cell_type": "code",
   "execution_count": 29,
   "metadata": {},
   "outputs": [
    {
     "name": "stdout",
     "output_type": "stream",
     "text": [
      "[[1. 3. 5.]\n",
      " [4. 6. 8.]]\n"
     ]
    }
   ],
   "source": [
    "with tf.Session() as sess:\n",
    "    # create a constant with values above and dtype float32\n",
    "    out = tf.constant([[1, 3, 5], [4, 6, 8]], dtype=\"float32\") # ___ YOUR CODE HERE ____\n",
    "    print(sess.run(out))\n",
    "    # should pass if done correctly\n",
    "    assert np.allclose(sess.run(out), np.array([[1, 3, 5], [4, 6, 8]], dtype=np.float32))"
   ]
  },
  {
   "cell_type": "markdown",
   "metadata": {},
   "source": [
    "Q5. Create a 1-D tensor of 50 evenly spaced numberts between 5 and 10 (inclusive). *Hint: Look up the equivalent of np linspace for tf*"
   ]
  },
  {
   "cell_type": "code",
   "execution_count": 31,
   "metadata": {},
   "outputs": [
    {
     "name": "stdout",
     "output_type": "stream",
     "text": [
      "[ 5.         5.102041   5.2040815  5.3061223  5.408163   5.5102043\n",
      "  5.612245   5.714286   5.8163266  5.9183674  6.020408   6.122449\n",
      "  6.2244897  6.3265305  6.4285717  6.5306125  6.632653   6.734694\n",
      "  6.836735   6.9387755  7.0408163  7.1428576  7.244898   7.346939\n",
      "  7.4489794  7.5510206  7.6530614  7.755102   7.857143   7.9591837\n",
      "  8.061225   8.163265   8.265306   8.367347   8.469388   8.571428\n",
      "  8.67347    8.775511   8.877551   8.979592   9.081633   9.183674\n",
      "  9.285715   9.387755   9.489796   9.591837   9.693878   9.795918\n",
      "  9.897959  10.       ]\n"
     ]
    }
   ],
   "source": [
    "with tf.Session() as sess:\n",
    "    # Create a 1-D tensor of 50 evenly spaced numberts between 5 and 10 (inclusive)\n",
    "    out = tf.linspace(5., 10., 50) # ___ YOUR CODE HERE ____\n",
    "    print(sess.run(out))\n",
    "    assert np.allclose(sess.run(out), np.linspace(5., 10., 50))\n"
   ]
  },
  {
   "cell_type": "markdown",
   "metadata": {},
   "source": [
    "Q6. Create a random tensor of the shape [3, 2], with elements from a normal distribution of mean=0, standard deviation=2."
   ]
  },
  {
   "cell_type": "code",
   "execution_count": 32,
   "metadata": {},
   "outputs": [
    {
     "name": "stdout",
     "output_type": "stream",
     "text": [
      "[[ 2.4102397 -1.7620888]\n",
      " [-0.9374828 -1.0058883]\n",
      " [ 3.480019   8.417322 ]]\n"
     ]
    }
   ],
   "source": [
    "with tf.Session() as sess:\n",
    "    X = tf.random_normal([3, 2], mean=0, stddev=2) # ___ YOUR CODE HERE ____\n",
    "    print(sess.run(X))"
   ]
  },
  {
   "cell_type": "markdown",
   "metadata": {},
   "source": [
    "Q7. Randomly shuffle the data in matrix X using tf.random_shuffle()"
   ]
  },
  {
   "cell_type": "code",
   "execution_count": 33,
   "metadata": {},
   "outputs": [
    {
     "name": "stdout",
     "output_type": "stream",
     "text": [
      "[[3 4]\n",
      " [1 2]\n",
      " [5 6]]\n"
     ]
    }
   ],
   "source": [
    "with tf.Session() as sess:\n",
    "    _X = np.array([[1, 2], [3, 4], [5, 6]])\n",
    "    # convert X to a tf tensor\n",
    "    X = tf.constant(_X) # ___ YOUR CODE HERE ____\n",
    "    # randomly shuffle out\n",
    "    out = tf.random_shuffle(X) # ___ YOUR CODE HERE ____\n",
    "    print(sess.run(out))"
   ]
  },
  {
   "cell_type": "markdown",
   "metadata": {},
   "source": []
  },
  {
   "cell_type": "markdown",
   "metadata": {},
   "source": [
    "Q8. Let x and y be random 0-D tensors. Return x + y if x < y and x - y otherwise. Use tf.cond()"
   ]
  },
  {
   "cell_type": "markdown",
   "metadata": {},
   "source": [
    "    Q8a. Values of x and y are not saved without using tf.Variable(). The function tf.random_uniform() is called for each sess.run()"
   ]
  },
  {
   "cell_type": "code",
   "execution_count": 52,
   "metadata": {},
   "outputs": [
    {
     "name": "stdout",
     "output_type": "stream",
     "text": [
      "-0.27452445 0.74259925 -1.2426612\n",
      "0.26684213 0.17589164 0.09095049\n"
     ]
    }
   ],
   "source": [
    "with tf.Session() as sess:\n",
    "    # This is equalvant to the following.\n",
    "    _x = tf.random_uniform([], -1, 1)\n",
    "    _y = tf.random_uniform([], -1, 1)\n",
    "    # Use tf.cond to to return x + y if x < y and x - y otherwise\n",
    "    _out = tf.cond(tf.less(_x, _y), lambda: tf.add(_x, _y), lambda: tf.subtract(_x, _y)) # ___ YOUR CODE HERE ____\n",
    "    print(sess.run(_x),sess.run(_y), sess.run(_out))\n",
    "    a, b, c = sess.run([_x, _y, _out])\n",
    "    print(a, b, c)"
   ]
  },
  {
   "cell_type": "markdown",
   "metadata": {},
   "source": [
    "    Q8b. Same as Q8a, but sess.run() is called once."
   ]
  },
  {
   "cell_type": "code",
   "execution_count": 53,
   "metadata": {},
   "outputs": [
    {
     "name": "stdout",
     "output_type": "stream",
     "text": [
      "-0.21680474 -0.5048251 0.28802037\n"
     ]
    }
   ],
   "source": [
    "with tf.Session() as sess:\n",
    "    # This is equalvant to the following.\n",
    "    _x = tf.random_uniform([], -1, 1)\n",
    "    _y = tf.random_uniform([], -1, 1)\n",
    "    # Use tf.cond to to return x + y if x < y and x - y otherwise\n",
    "    _out = tf.cond(tf.less(_x, _y), lambda: tf.add(_x, _y), lambda: tf.subtract(_x, _y)) # ___ YOUR CODE HERE ____\n",
    "    x, y, out = sess.run([_x, _y, _out])\n",
    "    print(x, y, out)"
   ]
  },
  {
   "cell_type": "markdown",
   "metadata": {},
   "source": [
    "    Q8c. Values of x and y are saved with the use of tf.Variable()."
   ]
  },
  {
   "cell_type": "code",
   "execution_count": 48,
   "metadata": {},
   "outputs": [
    {
     "name": "stdout",
     "output_type": "stream",
     "text": [
      "0.39054513 -0.48973775 0.8802829\n"
     ]
    }
   ],
   "source": [
    "with tf.Session() as sess:\n",
    "    # This is equalvant to the following.\n",
    "    _x = tf.random_uniform([], -1, 1)\n",
    "    _y = tf.random_uniform([], -1, 1)\n",
    "    x = tf.Variable(_x)\n",
    "    y = tf.Variable(_y)\n",
    "    # Use tf.cond to to return x + y if x < y and x - y otherwise\n",
    "    out = tf.cond(tf.less(x, y), lambda: tf.add(x, y), lambda: tf.subtract(x, y)) # ___ YOUR CODE HERE ____\n",
    "    init = tf.global_variables_initializer()\n",
    "    sess.run(init)\n",
    "    print(sess.run(x),sess.run(y), sess.run(out))"
   ]
  },
  {
   "cell_type": "markdown",
   "metadata": {},
   "source": [
    "Q9. Apply relu, elu, and softplus to x. Then observe the plot\n",
    "\n",
    "The package tf.nn contains all of these methods. "
   ]
  },
  {
   "cell_type": "code",
   "execution_count": 56,
   "metadata": {},
   "outputs": [
    {
     "name": "stdout",
     "output_type": "stream",
     "text": [
      "[-10.          -9.97997998  -9.95995996  -9.93993994  -9.91991992\n",
      "  -9.8998999   -9.87987988  -9.85985986  -9.83983984  -9.81981982\n",
      "  -9.7997998   -9.77977978  -9.75975976  -9.73973974  -9.71971972\n",
      "  -9.6996997   -9.67967968  -9.65965966  -9.63963964  -9.61961962\n",
      "  -9.5995996   -9.57957958  -9.55955956  -9.53953954  -9.51951952\n",
      "  -9.4994995   -9.47947948  -9.45945946  -9.43943944  -9.41941942\n",
      "  -9.3993994   -9.37937938  -9.35935936  -9.33933934  -9.31931932\n",
      "  -9.2992993   -9.27927928  -9.25925926  -9.23923924  -9.21921922\n",
      "  -9.1991992   -9.17917918  -9.15915916  -9.13913914  -9.11911912\n",
      "  -9.0990991   -9.07907908  -9.05905906  -9.03903904  -9.01901902\n",
      "  -8.998999    -8.97897898  -8.95895896  -8.93893894  -8.91891892\n",
      "  -8.8988989   -8.87887888  -8.85885886  -8.83883884  -8.81881882\n",
      "  -8.7987988   -8.77877878  -8.75875876  -8.73873874  -8.71871872\n",
      "  -8.6986987   -8.67867868  -8.65865866  -8.63863864  -8.61861862\n",
      "  -8.5985986   -8.57857858  -8.55855856  -8.53853854  -8.51851852\n",
      "  -8.4984985   -8.47847848  -8.45845846  -8.43843844  -8.41841842\n",
      "  -8.3983984   -8.37837838  -8.35835836  -8.33833834  -8.31831832\n",
      "  -8.2982983   -8.27827828  -8.25825826  -8.23823824  -8.21821822\n",
      "  -8.1981982   -8.17817818  -8.15815816  -8.13813814  -8.11811812\n",
      "  -8.0980981   -8.07807808  -8.05805806  -8.03803804  -8.01801802\n",
      "  -7.997998    -7.97797798  -7.95795796  -7.93793794  -7.91791792\n",
      "  -7.8978979   -7.87787788  -7.85785786  -7.83783784  -7.81781782\n",
      "  -7.7977978   -7.77777778  -7.75775776  -7.73773774  -7.71771772\n",
      "  -7.6976977   -7.67767768  -7.65765766  -7.63763764  -7.61761762\n",
      "  -7.5975976   -7.57757758  -7.55755756  -7.53753754  -7.51751752\n",
      "  -7.4974975   -7.47747748  -7.45745746  -7.43743744  -7.41741742\n",
      "  -7.3973974   -7.37737738  -7.35735736  -7.33733734  -7.31731732\n",
      "  -7.2972973   -7.27727728  -7.25725726  -7.23723724  -7.21721722\n",
      "  -7.1971972   -7.17717718  -7.15715716  -7.13713714  -7.11711712\n",
      "  -7.0970971   -7.07707708  -7.05705706  -7.03703704  -7.01701702\n",
      "  -6.996997    -6.97697698  -6.95695696  -6.93693694  -6.91691692\n",
      "  -6.8968969   -6.87687688  -6.85685686  -6.83683684  -6.81681682\n",
      "  -6.7967968   -6.77677678  -6.75675676  -6.73673674  -6.71671672\n",
      "  -6.6966967   -6.67667668  -6.65665666  -6.63663664  -6.61661662\n",
      "  -6.5965966   -6.57657658  -6.55655656  -6.53653654  -6.51651652\n",
      "  -6.4964965   -6.47647648  -6.45645646  -6.43643644  -6.41641642\n",
      "  -6.3963964   -6.37637638  -6.35635636  -6.33633634  -6.31631632\n",
      "  -6.2962963   -6.27627628  -6.25625626  -6.23623624  -6.21621622\n",
      "  -6.1961962   -6.17617618  -6.15615616  -6.13613614  -6.11611612\n",
      "  -6.0960961   -6.07607608  -6.05605606  -6.03603604  -6.01601602\n",
      "  -5.995996    -5.97597598  -5.95595596  -5.93593594  -5.91591592\n",
      "  -5.8958959   -5.87587588  -5.85585586  -5.83583584  -5.81581582\n",
      "  -5.7957958   -5.77577578  -5.75575576  -5.73573574  -5.71571572\n",
      "  -5.6956957   -5.67567568  -5.65565566  -5.63563564  -5.61561562\n",
      "  -5.5955956   -5.57557558  -5.55555556  -5.53553554  -5.51551552\n",
      "  -5.4954955   -5.47547548  -5.45545546  -5.43543544  -5.41541542\n",
      "  -5.3953954   -5.37537538  -5.35535536  -5.33533534  -5.31531532\n",
      "  -5.2952953   -5.27527528  -5.25525526  -5.23523524  -5.21521522\n",
      "  -5.1951952   -5.17517518  -5.15515516  -5.13513514  -5.11511512\n",
      "  -5.0950951   -5.07507508  -5.05505506  -5.03503504  -5.01501502\n",
      "  -4.99499499  -4.97497497  -4.95495495  -4.93493493  -4.91491491\n",
      "  -4.89489489  -4.87487487  -4.85485485  -4.83483483  -4.81481481\n",
      "  -4.79479479  -4.77477477  -4.75475475  -4.73473473  -4.71471471\n",
      "  -4.69469469  -4.67467467  -4.65465465  -4.63463463  -4.61461461\n",
      "  -4.59459459  -4.57457457  -4.55455455  -4.53453453  -4.51451451\n",
      "  -4.49449449  -4.47447447  -4.45445445  -4.43443443  -4.41441441\n",
      "  -4.39439439  -4.37437437  -4.35435435  -4.33433433  -4.31431431\n",
      "  -4.29429429  -4.27427427  -4.25425425  -4.23423423  -4.21421421\n",
      "  -4.19419419  -4.17417417  -4.15415415  -4.13413413  -4.11411411\n",
      "  -4.09409409  -4.07407407  -4.05405405  -4.03403403  -4.01401401\n",
      "  -3.99399399  -3.97397397  -3.95395395  -3.93393393  -3.91391391\n",
      "  -3.89389389  -3.87387387  -3.85385385  -3.83383383  -3.81381381\n",
      "  -3.79379379  -3.77377377  -3.75375375  -3.73373373  -3.71371371\n",
      "  -3.69369369  -3.67367367  -3.65365365  -3.63363363  -3.61361361\n",
      "  -3.59359359  -3.57357357  -3.55355355  -3.53353353  -3.51351351\n",
      "  -3.49349349  -3.47347347  -3.45345345  -3.43343343  -3.41341341\n",
      "  -3.39339339  -3.37337337  -3.35335335  -3.33333333  -3.31331331\n",
      "  -3.29329329  -3.27327327  -3.25325325  -3.23323323  -3.21321321\n",
      "  -3.19319319  -3.17317317  -3.15315315  -3.13313313  -3.11311311\n",
      "  -3.09309309  -3.07307307  -3.05305305  -3.03303303  -3.01301301\n",
      "  -2.99299299  -2.97297297  -2.95295295  -2.93293293  -2.91291291\n",
      "  -2.89289289  -2.87287287  -2.85285285  -2.83283283  -2.81281281\n",
      "  -2.79279279  -2.77277277  -2.75275275  -2.73273273  -2.71271271\n",
      "  -2.69269269  -2.67267267  -2.65265265  -2.63263263  -2.61261261\n",
      "  -2.59259259  -2.57257257  -2.55255255  -2.53253253  -2.51251251\n",
      "  -2.49249249  -2.47247247  -2.45245245  -2.43243243  -2.41241241\n",
      "  -2.39239239  -2.37237237  -2.35235235  -2.33233233  -2.31231231\n",
      "  -2.29229229  -2.27227227  -2.25225225  -2.23223223  -2.21221221\n",
      "  -2.19219219  -2.17217217  -2.15215215  -2.13213213  -2.11211211\n",
      "  -2.09209209  -2.07207207  -2.05205205  -2.03203203  -2.01201201\n",
      "  -1.99199199  -1.97197197  -1.95195195  -1.93193193  -1.91191191\n",
      "  -1.89189189  -1.87187187  -1.85185185  -1.83183183  -1.81181181\n",
      "  -1.79179179  -1.77177177  -1.75175175  -1.73173173  -1.71171171\n",
      "  -1.69169169  -1.67167167  -1.65165165  -1.63163163  -1.61161161\n",
      "  -1.59159159  -1.57157157  -1.55155155  -1.53153153  -1.51151151\n",
      "  -1.49149149  -1.47147147  -1.45145145  -1.43143143  -1.41141141\n",
      "  -1.39139139  -1.37137137  -1.35135135  -1.33133133  -1.31131131\n",
      "  -1.29129129  -1.27127127  -1.25125125  -1.23123123  -1.21121121\n",
      "  -1.19119119  -1.17117117  -1.15115115  -1.13113113  -1.11111111\n",
      "  -1.09109109  -1.07107107  -1.05105105  -1.03103103  -1.01101101\n",
      "  -0.99099099  -0.97097097  -0.95095095  -0.93093093  -0.91091091\n",
      "  -0.89089089  -0.87087087  -0.85085085  -0.83083083  -0.81081081\n",
      "  -0.79079079  -0.77077077  -0.75075075  -0.73073073  -0.71071071\n",
      "  -0.69069069  -0.67067067  -0.65065065  -0.63063063  -0.61061061\n",
      "  -0.59059059  -0.57057057  -0.55055055  -0.53053053  -0.51051051\n",
      "  -0.49049049  -0.47047047  -0.45045045  -0.43043043  -0.41041041\n",
      "  -0.39039039  -0.37037037  -0.35035035  -0.33033033  -0.31031031\n",
      "  -0.29029029  -0.27027027  -0.25025025  -0.23023023  -0.21021021\n",
      "  -0.19019019  -0.17017017  -0.15015015  -0.13013013  -0.11011011\n",
      "  -0.09009009  -0.07007007  -0.05005005  -0.03003003  -0.01001001\n",
      "   0.01001001   0.03003003   0.05005005   0.07007007   0.09009009\n",
      "   0.11011011   0.13013013   0.15015015   0.17017017   0.19019019\n",
      "   0.21021021   0.23023023   0.25025025   0.27027027   0.29029029\n",
      "   0.31031031   0.33033033   0.35035035   0.37037037   0.39039039\n",
      "   0.41041041   0.43043043   0.45045045   0.47047047   0.49049049\n",
      "   0.51051051   0.53053053   0.55055055   0.57057057   0.59059059\n",
      "   0.61061061   0.63063063   0.65065065   0.67067067   0.69069069\n",
      "   0.71071071   0.73073073   0.75075075   0.77077077   0.79079079\n",
      "   0.81081081   0.83083083   0.85085085   0.87087087   0.89089089\n",
      "   0.91091091   0.93093093   0.95095095   0.97097097   0.99099099\n",
      "   1.01101101   1.03103103   1.05105105   1.07107107   1.09109109\n",
      "   1.11111111   1.13113113   1.15115115   1.17117117   1.19119119\n",
      "   1.21121121   1.23123123   1.25125125   1.27127127   1.29129129\n",
      "   1.31131131   1.33133133   1.35135135   1.37137137   1.39139139\n",
      "   1.41141141   1.43143143   1.45145145   1.47147147   1.49149149\n",
      "   1.51151151   1.53153153   1.55155155   1.57157157   1.59159159\n",
      "   1.61161161   1.63163163   1.65165165   1.67167167   1.69169169\n",
      "   1.71171171   1.73173173   1.75175175   1.77177177   1.79179179\n",
      "   1.81181181   1.83183183   1.85185185   1.87187187   1.89189189\n",
      "   1.91191191   1.93193193   1.95195195   1.97197197   1.99199199\n",
      "   2.01201201   2.03203203   2.05205205   2.07207207   2.09209209\n",
      "   2.11211211   2.13213213   2.15215215   2.17217217   2.19219219\n",
      "   2.21221221   2.23223223   2.25225225   2.27227227   2.29229229\n",
      "   2.31231231   2.33233233   2.35235235   2.37237237   2.39239239\n",
      "   2.41241241   2.43243243   2.45245245   2.47247247   2.49249249\n",
      "   2.51251251   2.53253253   2.55255255   2.57257257   2.59259259\n",
      "   2.61261261   2.63263263   2.65265265   2.67267267   2.69269269\n",
      "   2.71271271   2.73273273   2.75275275   2.77277277   2.79279279\n",
      "   2.81281281   2.83283283   2.85285285   2.87287287   2.89289289\n",
      "   2.91291291   2.93293293   2.95295295   2.97297297   2.99299299\n",
      "   3.01301301   3.03303303   3.05305305   3.07307307   3.09309309\n",
      "   3.11311311   3.13313313   3.15315315   3.17317317   3.19319319\n",
      "   3.21321321   3.23323323   3.25325325   3.27327327   3.29329329\n",
      "   3.31331331   3.33333333   3.35335335   3.37337337   3.39339339\n",
      "   3.41341341   3.43343343   3.45345345   3.47347347   3.49349349\n",
      "   3.51351351   3.53353353   3.55355355   3.57357357   3.59359359\n",
      "   3.61361361   3.63363363   3.65365365   3.67367367   3.69369369\n",
      "   3.71371371   3.73373373   3.75375375   3.77377377   3.79379379\n",
      "   3.81381381   3.83383383   3.85385385   3.87387387   3.89389389\n",
      "   3.91391391   3.93393393   3.95395395   3.97397397   3.99399399\n",
      "   4.01401401   4.03403403   4.05405405   4.07407407   4.09409409\n",
      "   4.11411411   4.13413413   4.15415415   4.17417417   4.19419419\n",
      "   4.21421421   4.23423423   4.25425425   4.27427427   4.29429429\n",
      "   4.31431431   4.33433433   4.35435435   4.37437437   4.39439439\n",
      "   4.41441441   4.43443443   4.45445445   4.47447447   4.49449449\n",
      "   4.51451451   4.53453453   4.55455455   4.57457457   4.59459459\n",
      "   4.61461461   4.63463463   4.65465465   4.67467467   4.69469469\n",
      "   4.71471471   4.73473473   4.75475475   4.77477477   4.79479479\n",
      "   4.81481481   4.83483483   4.85485485   4.87487487   4.89489489\n",
      "   4.91491491   4.93493493   4.95495495   4.97497497   4.99499499\n",
      "   5.01501502   5.03503504   5.05505506   5.07507508   5.0950951\n",
      "   5.11511512   5.13513514   5.15515516   5.17517518   5.1951952\n",
      "   5.21521522   5.23523524   5.25525526   5.27527528   5.2952953\n",
      "   5.31531532   5.33533534   5.35535536   5.37537538   5.3953954\n",
      "   5.41541542   5.43543544   5.45545546   5.47547548   5.4954955\n",
      "   5.51551552   5.53553554   5.55555556   5.57557558   5.5955956\n",
      "   5.61561562   5.63563564   5.65565566   5.67567568   5.6956957\n",
      "   5.71571572   5.73573574   5.75575576   5.77577578   5.7957958\n",
      "   5.81581582   5.83583584   5.85585586   5.87587588   5.8958959\n",
      "   5.91591592   5.93593594   5.95595596   5.97597598   5.995996\n",
      "   6.01601602   6.03603604   6.05605606   6.07607608   6.0960961\n",
      "   6.11611612   6.13613614   6.15615616   6.17617618   6.1961962\n",
      "   6.21621622   6.23623624   6.25625626   6.27627628   6.2962963\n",
      "   6.31631632   6.33633634   6.35635636   6.37637638   6.3963964\n",
      "   6.41641642   6.43643644   6.45645646   6.47647648   6.4964965\n",
      "   6.51651652   6.53653654   6.55655656   6.57657658   6.5965966\n",
      "   6.61661662   6.63663664   6.65665666   6.67667668   6.6966967\n",
      "   6.71671672   6.73673674   6.75675676   6.77677678   6.7967968\n",
      "   6.81681682   6.83683684   6.85685686   6.87687688   6.8968969\n",
      "   6.91691692   6.93693694   6.95695696   6.97697698   6.996997\n",
      "   7.01701702   7.03703704   7.05705706   7.07707708   7.0970971\n",
      "   7.11711712   7.13713714   7.15715716   7.17717718   7.1971972\n",
      "   7.21721722   7.23723724   7.25725726   7.27727728   7.2972973\n",
      "   7.31731732   7.33733734   7.35735736   7.37737738   7.3973974\n",
      "   7.41741742   7.43743744   7.45745746   7.47747748   7.4974975\n",
      "   7.51751752   7.53753754   7.55755756   7.57757758   7.5975976\n",
      "   7.61761762   7.63763764   7.65765766   7.67767768   7.6976977\n",
      "   7.71771772   7.73773774   7.75775776   7.77777778   7.7977978\n",
      "   7.81781782   7.83783784   7.85785786   7.87787788   7.8978979\n",
      "   7.91791792   7.93793794   7.95795796   7.97797798   7.997998\n",
      "   8.01801802   8.03803804   8.05805806   8.07807808   8.0980981\n",
      "   8.11811812   8.13813814   8.15815816   8.17817818   8.1981982\n",
      "   8.21821822   8.23823824   8.25825826   8.27827828   8.2982983\n",
      "   8.31831832   8.33833834   8.35835836   8.37837838   8.3983984\n",
      "   8.41841842   8.43843844   8.45845846   8.47847848   8.4984985\n",
      "   8.51851852   8.53853854   8.55855856   8.57857858   8.5985986\n",
      "   8.61861862   8.63863864   8.65865866   8.67867868   8.6986987\n",
      "   8.71871872   8.73873874   8.75875876   8.77877878   8.7987988\n",
      "   8.81881882   8.83883884   8.85885886   8.87887888   8.8988989\n",
      "   8.91891892   8.93893894   8.95895896   8.97897898   8.998999\n",
      "   9.01901902   9.03903904   9.05905906   9.07907908   9.0990991\n",
      "   9.11911912   9.13913914   9.15915916   9.17917918   9.1991992\n",
      "   9.21921922   9.23923924   9.25925926   9.27927928   9.2992993\n",
      "   9.31931932   9.33933934   9.35935936   9.37937938   9.3993994\n",
      "   9.41941942   9.43943944   9.45945946   9.47947948   9.4994995\n",
      "   9.51951952   9.53953954   9.55955956   9.57957958   9.5995996\n",
      "   9.61961962   9.63963964   9.65965966   9.67967968   9.6996997\n",
      "   9.71971972   9.73973974   9.75975976   9.77977978   9.7997998\n",
      "   9.81981982   9.83983984   9.85985986   9.87987988   9.8998999\n",
      "   9.91991992   9.93993994   9.95995996   9.97997998  10.        ]\n"
     ]
    }
   ],
   "source": [
    "_x = np.linspace(-10., 10., 1000)\n",
    "x = tf.convert_to_tensor(_x)\n",
    "\n",
    "with tf.Session() as sess:\n",
    "    xx = sess.run(x)\n",
    "\n",
    "print(xx)"
   ]
  },
  {
   "cell_type": "code",
   "execution_count": 58,
   "metadata": {},
   "outputs": [
    {
     "data": {
      "image/png": "[encoded data removed]",
      "text/plain": [
       "<Figure size 432x288 with 1 Axes>"
      ]
     },
     "metadata": {},
     "output_type": "display_data"
    }
   ],
   "source": [
    "# Set the following lines\n",
    "relu = tf.nn.relu(x) # ___ YOUR CODE HERE ____\n",
    "elu = tf.nn.elu(x) # ___ YOUR CODE HERE ____\n",
    "softplus = tf.nn.softplus(x) # ___ YOUR CODE HERE ____\n",
    "\n",
    "with tf.Session() as sess:\n",
    "    _relu, _elu, _softplus = sess.run([relu, elu, softplus])\n",
    "    plt.plot(_x, _relu, label='relu')\n",
    "    plt.plot(_x, _elu, label='elu')\n",
    "    plt.plot(_x, _softplus, label='softplus')\n",
    "    plt.legend(bbox_to_anchor=(0.5, 1.0))\n",
    "    plt.show()"
   ]
  },
  {
   "cell_type": "markdown",
   "metadata": {},
   "source": [
    "Q2. Apply sigmoid and tanh to x using tf.nn.sigmoid() and tf.nn.tanh()"
   ]
  },
  {
   "cell_type": "code",
   "execution_count": 59,
   "metadata": {},
   "outputs": [],
   "source": [
    "_x = np.linspace(-10., 10., 1000)\n",
    "x = tf.convert_to_tensor(_x)"
   ]
  },
  {
   "cell_type": "code",
   "execution_count": 60,
   "metadata": {},
   "outputs": [
    {
     "data": {
      "image/png": "[encoded data removed]",
      "text/plain": [
       "<Figure size 432x288 with 1 Axes>"
      ]
     },
     "metadata": {},
     "output_type": "display_data"
    }
   ],
   "source": [
    "sigmoid = tf.nn.sigmoid(x) # ___ YOUR CODE HERE ____\n",
    "tanh = tf.nn.tanh(x) # ___ YOUR CODE HERE ____\n",
    "\n",
    "with tf.Session() as sess:\n",
    "    _sigmoid, _tanh = sess.run([sigmoid, tanh])\n",
    "    plt.plot(_x, _sigmoid, label='sigmoid')\n",
    "    plt.plot(_x, _tanh, label='tanh')\n",
    "    plt.legend(bbox_to_anchor=(0.5, 1.0))\n",
    "    plt.grid()\n",
    "    plt.show()"
   ]
  },
  {
   "cell_type": "markdown",
   "metadata": {},
   "source": [
    "Q3. Apply softmax to x. Assertion should pass if you did this correctly"
   ]
  },
  {
   "cell_type": "code",
   "execution_count": 61,
   "metadata": {},
   "outputs": [
    {
     "name": "stdout",
     "output_type": "stream",
     "text": [
      "[[8.9250901e-04 2.4260911e-03 1.7926522e-02 9.7875494e-01]\n",
      " [2.1440089e-03 1.5842201e-02 1.1705890e-01 8.6495483e-01]]\n"
     ]
    }
   ],
   "source": [
    "_x = np.array([[1, 2, 4, 8], [2, 4, 6, 8]], dtype=np.float32)\n",
    "x = tf.convert_to_tensor(_x)\n",
    "# Apply softmax to x and set tensor as out\n",
    "out = tf.nn.softmax(x) # ___ YOUR CODE HERE ____\n",
    "with tf.Session() as sess:\n",
    "    _out = sess.run(out)\n",
    "    print(_out)    \n",
    "    assert np.allclose(np.sum(_out, axis=-1), 1)"
   ]
  },
  {
   "cell_type": "markdown",
   "metadata": {},
   "source": [
    "Q4. Apply a fully connected layer to x with 2 outputs and then an sigmoid function. We provide the prepared contrib fully_connected layer"
   ]
  },
  {
   "cell_type": "code",
   "execution_count": 63,
   "metadata": {},
   "outputs": [
    {
     "name": "stdout",
     "output_type": "stream",
     "text": [
      "[[0.         1.6214542  0.        ]\n",
      " [0.         1.1874791  0.41924092]\n",
      " [0.         0.5946138  0.        ]\n",
      " [0.         0.6325521  0.        ]\n",
      " [0.         0.         0.75900936]\n",
      " [0.         1.1910896  0.95128965]\n",
      " [3.4743092  0.         0.        ]\n",
      " [0.20625663 1.0669801  0.72331387]]\n"
     ]
    }
   ],
   "source": [
    "x = tf.random_normal([8, 10])\n",
    "# replace ... with  the correct parameters. Shift+tab in jupyter notebooks reveal what the params are\n",
    "out = tf.contrib.layers.fully_connected(x, 3) # ___ YOUR CODE HERE ____\n",
    "with tf.Session() as sess:\n",
    "    sess.run(tf.global_variables_initializer())\n",
    "    print(sess.run(out))"
   ]
  },
  {
   "cell_type": "code",
   "execution_count": null,
   "metadata": {
    "collapsed": true
   },
   "outputs": [],
   "source": []
  }
 ],
 "metadata": {
  "anaconda-cloud": {},
  "kernelspec": {
   "display_name": "Python 3",
   "language": "python",
   "name": "python3"
  },
  "language_info": {
   "codemirror_mode": {
    "name": "ipython",
    "version": 3
   },
   "file_extension": ".py",
   "mimetype": "text/x-python",
   "name": "python",
   "nbconvert_exporter": "python",
   "pygments_lexer": "ipython3",
   "version": "3.5.5"
  }
 },
 "nbformat": 4,
 "nbformat_minor": 1
}
